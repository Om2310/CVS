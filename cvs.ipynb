# Importing Libraries 
import numpy as np
import pandas as pd
import matplotlib.pyplot as plt
#Importing Dataset
training_data = pd.read_csv(r"C:\Users\dhruv\AppData\Roaming\Microsoft\Windows\Start Menu\Programs\Anaconda3 (64-bit)\Dataset2.csv")
